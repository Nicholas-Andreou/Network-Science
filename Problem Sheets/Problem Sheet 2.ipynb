{
 "cells": [
  {
   "cell_type": "code",
   "execution_count": null,
   "id": "bda025be-0172-450b-a0df-40b2b3f09604",
   "metadata": {},
   "outputs": [],
   "source": []
  }
 ],
 "metadata": {
  "kernelspec": {
   "display_name": "",
   "name": ""
  },
  "language_info": {
   "name": ""
  }
 },
 "nbformat": 4,
 "nbformat_minor": 5
}
