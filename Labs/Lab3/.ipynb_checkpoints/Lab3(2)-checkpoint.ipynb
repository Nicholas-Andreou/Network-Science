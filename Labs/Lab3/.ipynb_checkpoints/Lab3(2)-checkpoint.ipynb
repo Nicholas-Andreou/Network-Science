{
 "cells": [
  {
   "cell_type": "markdown",
   "metadata": {},
   "source": [
    "## Network Science Lab 3"
   ]
  },
  {
   "cell_type": "code",
   "execution_count": 8,
   "metadata": {},
   "outputs": [],
   "source": [
    "#Run this cell 1st to import numpy, matplotlib, and networkx\n",
    "import networkx as nx\n",
    "import numpy as np\n",
    "import matplotlib.pyplot as plt\n",
    "%matplotlib inline"
   ]
  },
  {
   "cell_type": "markdown",
   "metadata": {},
   "source": [
    "### Part 1: Working with weighted directed graphs in NetworkX"
   ]
  },
  {
   "cell_type": "markdown",
   "metadata": {},
   "source": [
    "In part 1, you will carry out a few simple tasks using a NetworkX weighted directed graph. Run the cell below to generate the graph. Note that we use *nx.DiGraph()* to initialize a directed graph."
   ]
  },
  {
   "cell_type": "code",
   "execution_count": 75,
   "metadata": {},
   "outputs": [
    {
     "data": {
      "image/png": "[encoded data removed]",
      "text/plain": [
       "<Figure size 640x480 with 1 Axes>"
      ]
     },
     "metadata": {},
     "output_type": "display_data"
    }
   ],
   "source": [
    "G = nx.DiGraph()\n",
    "\n",
    "G.add_edge(1, 2, ewt=0.6)\n",
    "G.add_edge(1, 3, ewt=0.2)\n",
    "G.add_edge(3, 4, ewt=0.1)\n",
    "G.add_edge(3, 5, ewt=0.7)\n",
    "G.add_edge(3, 6, ewt=0.9)\n",
    "G.add_edge(1, 4, ewt=0.3)\n",
    "\n",
    "plt.figure()\n",
    "pos = nx.spring_layout(G)\n",
    "nx.draw(G, pos, with_labels=True, node_size=700, font_size=10)\n",
    "\n",
    "\n",
    "edge_labels = nx.get_edge_attributes(G, \"ewt\")\n",
    "nx.draw_networkx_edge_labels(G, pos, edge_labels)\n",
    "\n",
    "plt.show()"
   ]
  },
  {
   "cell_type": "markdown",
   "metadata": {},
   "source": [
    "The edge weights can be added to the plot, see the example [here](https://networkx.org/documentation/stable/auto_examples/drawing/plot_weighted_graph.html) if you would like to see how."
   ]
  },
  {
   "cell_type": "markdown",
   "metadata": {},
   "source": [
    "1) There are many methods and functions in Networkx that have an option to output or to use the edge weights. Read through the documentation for G.edges(), and call it so that it outputs all of the edges and their weights. Use this output to create a 6 x 3 Numpy array where a row contains the two nodes forming an edge and the corresponding edge weight. It may be helpful to first convert the output to a list and then convert the list to an array.\n",
    "Note that you will have to specify the label for the weights, 'ewt' (see the code used to generate the graph). Print your array and compare it to the code for creating the graph above."
   ]
  },
  {
   "cell_type": "code",
   "execution_count": 125,
   "metadata": {},
   "outputs": [
    {
     "data": {
      "text/plain": [
       "array([[1. , 2. , 0.6],\n",
       "       [1. , 3. , 0.2],\n",
       "       [1. , 4. , 0.3],\n",
       "       [3. , 4. , 0.1],\n",
       "       [3. , 5. , 0.7],\n",
       "       [3. , 6. , 0.9]])"
      ]
     },
     "execution_count": 125,
     "metadata": {},
     "output_type": "execute_result"
    }
   ],
   "source": [
    "ewt_lis = list(G.edges(data = \"ewt\"))\n",
    "M = np.zeros((6,3))\n",
    "for i in range(6):\n",
    "    for j in range(3):\n",
    "        M[i][j] =  ewt_lis[i][j]\n",
    "M\n"
   ]
  },
  {
   "cell_type": "code",
   "execution_count": null,
   "metadata": {},
   "outputs": [],
   "source": []
  },
  {
   "cell_type": "markdown",
   "metadata": {},
   "source": [
    "2) NetworkX **does not** use the same convention for adjacency matrices of directed graphs that we have been using. Create the adjacency matrix for the graph above, take the transpose, and verify that the resulting matrix is what you would expect based on our convention."
   ]
  },
  {
   "cell_type": "code",
   "execution_count": 152,
   "metadata": {},
   "outputs": [
    {
     "name": "stdout",
     "output_type": "stream",
     "text": [
      "[[0 0 0 0 0 0]\n",
      " [1 0 0 0 0 0]\n",
      " [1 0 0 0 0 0]\n",
      " [1 0 1 0 0 0]\n",
      " [0 0 1 0 0 0]\n",
      " [0 0 1 0 0 0]]\n"
     ]
    }
   ],
   "source": [
    "A = nx.adjacency_matrix(G)\n",
    "print(np.transpose(A.toarray()))"
   ]
  },
  {
   "cell_type": "markdown",
   "metadata": {},
   "source": [
    "3) Now use nx.adjacency_matrix to create the *weight matrix*, $\\rm W$ for the graph. This matrix should store the edge weight for the edge from $j$ to $i$ in $W_{ij}$, and if no such edge exists then $W_{ij}=0$. "
   ]
  },
  {
   "cell_type": "code",
   "execution_count": 154,
   "metadata": {},
   "outputs": [
    {
     "name": "stdout",
     "output_type": "stream",
     "text": [
      "[[0.  0.  0.  0.  0.  0. ]\n",
      " [0.6 0.  0.  0.  0.  0. ]\n",
      " [0.2 0.  0.  0.  0.  0. ]\n",
      " [0.3 0.  0.1 0.  0.  0. ]\n",
      " [0.  0.  0.7 0.  0.  0. ]\n",
      " [0.  0.  0.9 0.  0.  0. ]]\n"
     ]
    }
   ],
   "source": [
    "#Add code here\n",
    "A = nx.adjacency_matrix(G, weight = \"ewt\")\n",
    "print(np.transpose(A.toarray()))"
   ]
  },
  {
   "cell_type": "markdown",
   "metadata": {},
   "source": [
    "### Part 2: Numerical estimation of the number of triangles in $G_{Np}$ graphs"
   ]
  },
  {
   "cell_type": "markdown",
   "metadata": {},
   "source": [
    "In lecture 5, we argued that the expected number of triangles in $G_{Np}$ graphs is ${N \\choose 3} p^3$. But is this result really correct? We can check it by simulating several $G_{Np}$ graphs and computing the average number of triangles per graph. The first function in the cell below counts the total number of triangles in a NetworkX graph while the second computes the expected number of triangles."
   ]
  },
  {
   "cell_type": "code",
   "execution_count": 21,
   "metadata": {},
   "outputs": [],
   "source": [
    "def count_triangles(G):\n",
    "    \"\"\"Returns total number of triangles in G\n",
    "    \"\"\"\n",
    "    t = nx.triangles(G)\n",
    "    return np.sum(list(t.values()))/3\n",
    "\n",
    "from scipy.special import comb\n",
    "def expected_triangles(N,p):\n",
    "    \"\"\"Expected number of triangles in GNp graph\n",
    "    \"\"\"\n",
    "    return comb(N,3)*p**3"
   ]
  },
  {
   "cell_type": "markdown",
   "metadata": {},
   "source": [
    "1) Add code to the cell below to simulate 10000 GNp graphs with $N=100$ and $p=0.12$. Store the number of triangles in each graph in a numpy array"
   ]
  },
  {
   "cell_type": "code",
   "execution_count": 23,
   "metadata": {},
   "outputs": [],
   "source": [
    "#Add code here\n"
   ]
  },
  {
   "cell_type": "markdown",
   "metadata": {},
   "source": [
    "2) Create a numpy array whose ith element contains the average number of triangles in the first i+1 graphs simulated above (here i ranges from 0 to 9999). *np.cumsum* may be helpful for this task."
   ]
  },
  {
   "cell_type": "code",
   "execution_count": 25,
   "metadata": {},
   "outputs": [],
   "source": [
    "#Add code here\n"
   ]
  },
  {
   "cell_type": "markdown",
   "metadata": {},
   "source": [
    "3) Finally, make a plot showing how the average number of triangles varies with the number of graphs used to compute the average. Are the computed averages close to the expected number of triangles?"
   ]
  },
  {
   "cell_type": "code",
   "execution_count": 27,
   "metadata": {},
   "outputs": [],
   "source": [
    "#Add code here\n"
   ]
  }
 ],
 "metadata": {
  "kernelspec": {
   "display_name": "Python [conda env:aarch64]",
   "language": "python",
   "name": "conda-env-aarch64-py"
  },
  "language_info": {
   "codemirror_mode": {
    "name": "ipython",
    "version": 3
   },
   "file_extension": ".py",
   "mimetype": "text/x-python",
   "name": "python",
   "nbconvert_exporter": "python",
   "pygments_lexer": "ipython3",
   "version": "3.12.8"
  }
 },
 "nbformat": 4,
 "nbformat_minor": 4
}
