{
 "cells": [
  {
   "cell_type": "markdown",
   "metadata": {},
   "source": [
    "## Network Science Lab 5"
   ]
  },
  {
   "cell_type": "markdown",
   "metadata": {},
   "source": [
    "### Numerical solution of an initial value problem\n",
    "When analyzing dynamics on networks, we frequently work with systems of ordinary differential equations (one equation for each node). The graph diffusion equation is a system of linear constant coefficient equations which can be solved in terms of the eigenvalues and eigenvectors of the graph Laplacian. Such an approach will not work for variable-coefficient and nonlinear ODEs which often arise when working with complex systems. Instead, we can use computational routines which take the initial condition as input and compute approximate solutions at later times. In this lab, you will use the *solve_ivp* function to solve a system of two equations. These equations have an analytical solution (which you should find and then use to test your numerical result), but keep in mind that the same approach could be used for more complicated equations."
   ]
  },
  {
   "cell_type": "markdown",
   "metadata": {},
   "source": [
    "Familiarize yourself with the *solve_ivp* function. The documentation for the function is here: https://docs.scipy.org/doc/scipy/reference/generated/scipy.integrate.solve_ivp.html\n",
    "Note that there are three required input variables: func, y0 and t. "
   ]
  },
  {
   "cell_type": "markdown",
   "metadata": {},
   "source": [
    "You will now use *solve_ivp* from scipy.integrate to solve the following IVP:\n",
    "\n",
    "$\\frac{dy_1}{dt} =  sin( \\omega t) $\n",
    "\n",
    "$\\frac{dy_2}{dt} = y_1 - y_2$\n",
    "\n",
    "$y_1(0)=1, ~ y_2(0)=0$\n",
    "\n",
    "and $\\omega$ is a parameter that must be specified"
   ]
  },
  {
   "cell_type": "markdown",
   "metadata": {},
   "source": [
    "1) Create a function named RHS which takes t,y, and $\\omega$ as input and returns dy/dt. Note that y and dy/dt should each contain two elements"
   ]
  },
  {
   "cell_type": "code",
   "execution_count": 1,
   "metadata": {},
   "outputs": [],
   "source": [
    "import numpy as np\n",
    "import matplotlib.pyplot as plt\n",
    "#Add code here\n",
    "\n",
    "def RHS(t,y,ω):\n",
    "    return [np.sin(ω*t), y[0] - y[1]]"
   ]
  },
  {
   "cell_type": "markdown",
   "metadata": {},
   "source": [
    "2) Now, (a) set the variable, y0, to the initial condition, (b) assign a value to $\\omega$, and (c) create an array of times, t (starting at zero) at which the solution will be computed (y0 should contain two elements)."
   ]
  },
  {
   "cell_type": "code",
   "execution_count": 81,
   "metadata": {},
   "outputs": [],
   "source": [
    "#Add code here\n",
    "y0 = [1,0]\n",
    "ω = 1\n",
    "t = [t for t in range(100)]"
   ]
  },
  {
   "cell_type": "markdown",
   "metadata": {},
   "source": [
    "3) If the previous tasks have been completed correctly, the code below will solve the IVP and return the solution in the array, y"
   ]
  },
  {
   "cell_type": "code",
   "execution_count": 84,
   "metadata": {},
   "outputs": [
    {
     "data": {
      "text/plain": [
       "array([[1.        , 1.45971084, 2.41649634, 2.9901439 , 2.65209215,\n",
       "        1.71068945, 1.03279542, 1.23878556, 2.14003469, 2.90597322,\n",
       "        2.83189568, 1.9837457 , 1.14410951, 1.0812193 , 1.8535652 ,\n",
       "        2.75058007, 2.94730717, 2.26028352, 1.32358068, 0.99579546,\n",
       "        1.57786209, 2.53472393, 2.9865208 , 2.51573916, 1.55581042,\n",
       "        0.98922617, 1.334786  , 2.27514668, 2.94562644, 2.72820858,\n",
       "        1.82206849, 1.06182488, 1.14325086, 1.99230459, 2.82801771,\n",
       "        2.88151242, 2.10122772, 1.20740235, 1.01831261, 1.70841338,\n",
       "        2.64276626, 2.96218845, 2.3706012 , 1.41403524, 0.969753  ,\n",
       "        1.44567505, 2.40439937, 2.96435532, 2.60892433, 1.6651289 ,\n",
       "        1.00101713, 1.22500249, 2.13159476, 2.88709273, 2.79568451,\n",
       "        1.94048297, 1.10938133, 1.06355586, 1.84582344, 2.73671237,\n",
       "        2.91679271, 2.21818291, 1.28427523, 0.97268467, 1.56830103,\n",
       "        2.52549912, 2.96474605, 2.47973939, 1.51830355, 0.96502401,\n",
       "        1.32708449, 2.27147833, 2.92988207, 2.69716923, 1.78704507,\n",
       "        1.03404543, 1.13161219, 1.98873036, 2.81945778, 2.85819816,\n",
       "        2.06844842, 1.17910028, 1.00734696, 1.71015662, 2.641366  ,\n",
       "        2.94494535, 2.34190164, 1.38685054, 0.95773385, 1.44855645,\n",
       "        2.40961862, 2.95904283, 2.58955021, 1.64225122, 0.99069599,\n",
       "        1.23097113, 2.14298705, 2.88786877, 2.77995476, 1.9167823 ],\n",
       "       [0.        , 0.75738579, 1.55076521, 2.35028724, 2.6771599 ,\n",
       "        2.32446857, 1.64969066, 1.28578029, 1.57160365, 2.24457165,\n",
       "        2.68579256, 2.48798806, 1.8345203 , 1.32438489, 1.42602037,\n",
       "        2.04567142, 2.61354998, 2.60570123, 2.02984707, 1.41486686,\n",
       "        1.32474421, 1.84241348, 2.49157388, 2.67453177, 2.22178539,\n",
       "        1.55088008, 1.27625978, 1.65052965, 2.32928274, 2.6879602 ,\n",
       "        2.39490083, 1.72127321, 1.2840308 , 1.48517848, 2.13938169,\n",
       "        2.64508341, 2.53528555, 1.91218359, 1.34723606, 1.35915262,\n",
       "        1.93670713, 2.54885927, 2.63122659, 2.10822799, 1.46054268,\n",
       "        1.2821579 , 1.73718548, 2.40689162, 2.6750099 , 2.29353526,\n",
       "        1.61461644, 1.26024871, 1.55633182, 2.23029475, 2.66225572,\n",
       "        2.4532046 , 1.79690792, 1.29478882, 1.40835438, 2.0328963 ,\n",
       "        2.59415173, 2.574362  , 1.99131685, 1.38160632, 1.30330832,\n",
       "        1.82930329, 2.47777614, 2.65014999, 2.18810513, 1.51818178,\n",
       "        1.25552777, 1.64070171, 2.31984197, 2.66854527, 2.36641111,\n",
       "        1.68974564, 1.2605269 , 1.47201015, 2.13190435, 2.63258327,\n",
       "        2.51163635, 1.88240291, 1.32420637, 1.34938321, 1.93451038,\n",
       "        2.54169487, 2.61298492, 2.08300579, 1.43919242, 1.2725865 ,\n",
       "        1.73703897, 2.40801507, 2.66729643, 2.27607687, 1.5978712 ,\n",
       "        1.25375925, 1.56056807, 2.23575985, 2.65844361, 2.43809524]])"
      ]
     },
     "execution_count": 84,
     "metadata": {},
     "output_type": "execute_result"
    }
   ],
   "source": [
    "import numpy as np\n",
    "from scipy.integrate import solve_ivp\n",
    "sol = solve_ivp(RHS,[t[0],t[-1]],y0,args=(ω,),t_eval = t,method='BDF')\n",
    "y = sol.y\n",
    "y"
   ]
  },
  {
   "cell_type": "markdown",
   "metadata": {},
   "source": [
    "4) What are the dimensions of y? Plot your solution for $y_i(t)$. Compute the error, $\\epsilon(t) = |y_2-y_{2,exact}|$. Is it what you expect? Can you reduce it? For this last question, it may be helpful to look at the online documentation for *solve_ivp*. "
   ]
  },
  {
   "cell_type": "code",
   "execution_count": 87,
   "metadata": {},
   "outputs": [
    {
     "data": {
      "image/png": "[encoded data removed]",
      "text/plain": [
       "<Figure size 640x480 with 1 Axes>"
      ]
     },
     "metadata": {},
     "output_type": "display_data"
    }
   ],
   "source": [
    "plt.plot(y[0], y[1], marker='o')  # Using 'o' to mark each data point\n",
    "plt.grid(True)\n",
    "plt.axis('equal')\n",
    "plt.show()"
   ]
  },
  {
   "cell_type": "code",
   "execution_count": null,
   "metadata": {},
   "outputs": [],
   "source": []
  },
  {
   "cell_type": "code",
   "execution_count": null,
   "metadata": {},
   "outputs": [],
   "source": []
  }
 ],
 "metadata": {
  "kernelspec": {
   "display_name": "Python [conda env:aarch64]",
   "language": "python",
   "name": "conda-env-aarch64-py"
  },
  "language_info": {
   "codemirror_mode": {
    "name": "ipython",
    "version": 3
   },
   "file_extension": ".py",
   "mimetype": "text/x-python",
   "name": "python",
   "nbconvert_exporter": "python",
   "pygments_lexer": "ipython3",
   "version": "3.12.8"
  }
 },
 "nbformat": 4,
 "nbformat_minor": 4
}
