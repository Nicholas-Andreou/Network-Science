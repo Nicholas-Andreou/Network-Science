{
 "cells": [
  {
   "cell_type": "markdown",
   "metadata": {},
   "source": [
    "## Network Science Lab 2 Solution"
   ]
  },
  {
   "cell_type": "markdown",
   "metadata": {},
   "source": [
    "### Task 1: working with Numpy arrays and sparse matrices"
   ]
  },
  {
   "cell_type": "markdown",
   "metadata": {},
   "source": [
    "numpy arrays and sparse matrices (see documentation for scipy.sparse: https://docs.scipy.org/doc/scipy/reference/sparse.html) are powerful tools provided that they are used properly. Key points are to avoid loops and unnecessary calculations and to use built-in methods and functions. In this task, you will carry out simple matrix calculations to build upon this idea"
   ]
  },
  {
   "cell_type": "markdown",
   "metadata": {},
   "source": [
    "Functions for loop-based and vectorized addition of two matrices are given below. The functions also return timing results."
   ]
  },
  {
   "cell_type": "code",
   "execution_count": 2,
   "metadata": {},
   "outputs": [],
   "source": [
    "import numpy as np\n",
    "import networkx as nx\n",
    "from time import time\n",
    "def add1(A,B):\n",
    "    \"\"\"Add two matrices of identical shape element-by-element and collect\n",
    "    timing information\"\"\"\n",
    "    C = A.copy()\n",
    "    N,M = A.shape\n",
    "    t1 = time()\n",
    "    for i in range(N):\n",
    "        for j in range(M):\n",
    "            C[i,j]=A[i,j]+B[i,j]\n",
    "    t2 = time()\n",
    "    return C,t2-t1\n",
    "\n",
    "def add2(A,B):\n",
    "    \"\"\" Vectorized addition of two arrays/matrices of identical shape; timing information\n",
    "    is also collected\"\"\"\n",
    "    t1 = time()\n",
    "    C = A+B\n",
    "    t2 = time()\n",
    "    return C,t2-t1\n",
    "    "
   ]
  },
  {
   "cell_type": "markdown",
   "metadata": {},
   "source": [
    "1) Generate two B-A graphs with N=5000, M=3. For each graph, generate two adjacency matrices, one stored as a sparse matrix and one stored as a numpy array"
   ]
  },
  {
   "cell_type": "code",
   "execution_count": 3,
   "metadata": {},
   "outputs": [
    {
     "name": "stdout",
     "output_type": "stream",
     "text": [
      "generated 1st B-A graph\n",
      "generated 2nd B-A graph\n"
     ]
    }
   ],
   "source": [
    "G1 = nx.barabasi_albert_graph(5000,3)\n",
    "print(\"generated 1st B-A graph\")\n",
    "Asp1 = nx.adjacency_matrix(G1)\n",
    "Anp1 = Asp1.toarray()\n",
    "G2 = nx.barabasi_albert_graph(5000,3)\n",
    "print(\"generated 2nd B-A graph\")\n",
    "Asp2 = nx.adjacency_matrix(G2)\n",
    "Anp2 = Asp2.toarray()"
   ]
  },
  {
   "cell_type": "markdown",
   "metadata": {},
   "source": [
    "2) Now compare the times taken for (a) loop-based addition of the two numpy arrays, (b) vectorized addition of the two numpy arrays, and (c) vectorized addition of the two sparse matrices. What do you observe? Can you explain your observations?"
   ]
  },
  {
   "cell_type": "code",
   "execution_count": 4,
   "metadata": {
    "scrolled": true
   },
   "outputs": [
    {
     "name": "stdout",
     "output_type": "stream",
     "text": [
      "1\n",
      "2\n",
      "3\n",
      "loop, dense, dt= 11.908386945724487\n",
      "vector, sparse, dt= 0.0012218952178955078\n",
      "vector, dense, dt= 0.12453794479370117\n"
     ]
    }
   ],
   "source": [
    "C1,dt1 = add1(Anp1,Anp2) #loop, dense\n",
    "print(1)\n",
    "C2,dt2 = add2(Asp1,Asp2) #vectorized, sparse\n",
    "print(2)\n",
    "C3,dt3 = add2(Anp1,Anp2) #vectorized, dense\n",
    "print(3)\n",
    "\n",
    "print(\"loop, dense, dt=\",dt1)\n",
    "print(\"vector, sparse, dt=\",dt2)\n",
    "print(\"vector, dense, dt=\",dt3)"
   ]
  },
  {
   "cell_type": "code",
   "execution_count": 5,
   "metadata": {},
   "outputs": [
    {
     "data": {
      "text/plain": [
       "0.00059964"
      ]
     },
     "execution_count": 5,
     "metadata": {},
     "output_type": "execute_result"
    }
   ],
   "source": [
    "14991/5000**2"
   ]
  },
  {
   "cell_type": "markdown",
   "metadata": {},
   "source": [
    "Loop based addition with dense matrices is more than 100 times slower than the vectorized version, and vectorized addition with the sparse matrix is about 100 times faster than the dense version. We could expect roughly a factor of 1000 improvement when using the sparse version since most of the terms in the adjacency matrices are zero, however this is probably a case where the additions are so fast that other factors like data movement in memory are affecting the time for the sparse calculation."
   ]
  },
  {
   "cell_type": "markdown",
   "metadata": {},
   "source": [
    "### Task 2: Computing the Katz centrality"
   ]
  },
  {
   "cell_type": "markdown",
   "metadata": {},
   "source": [
    "Here you will develop your own code to efficiently compute the Katz centrality of a Network. Generally, when starting a non-trivial programming task, it is highly-recommended to write down a plan on paper before you write any code. I cannot emphasize enough how highly-recommended this is. For this task, our plan is:\n",
    "1. Create a small test graph (using the B-A model)\n",
    "2. Extract the (sparse) adjacency matrix for the graph, $\\textrm{A}$\n",
    "3. Compute the most-positive eigenvalue of A, $\\lambda_1$\n",
    "4. Set the Katz parameter to be $\\alpha=0.9/\\lambda_1$\n",
    "5. Construct the (sparse) matrix, $\\textrm{M}=\\textrm{I}-\\alpha \\textrm{A}$ and the array corresponding to $\\textrm{z}$\n",
    "6. Solve the system of equations, $\\rm Mx=z$ to obtain the Katz centrality, $\\rm x$. \n",
    "See the cells below for more information on these steps."
   ]
  },
  {
   "cell_type": "code",
   "execution_count": 6,
   "metadata": {},
   "outputs": [],
   "source": [
    "#import needed modules and generate small test graph\n",
    "import numpy as np\n",
    "import networkx as nx\n",
    "import scipy.sparse.linalg\n",
    "import scipy.sparse as sp\n",
    "\n",
    "\n",
    "N = 20\n",
    "G = nx.barabasi_albert_graph(N,4)\n"
   ]
  },
  {
   "cell_type": "markdown",
   "metadata": {},
   "source": [
    "1) Extract the sparse adjacency matrix. Note that the elements the matrix will (probably) be integers, but one of the functions you will use below requires the float datatype. Use the *.astype()* method to convert the datatype of the elements in $\\rm A$. "
   ]
  },
  {
   "cell_type": "code",
   "execution_count": 7,
   "metadata": {},
   "outputs": [],
   "source": [
    "#Add code here\n",
    "A = nx.adjacency_matrix(G)\n",
    "A = A.astype(float)"
   ]
  },
  {
   "cell_type": "markdown",
   "metadata": {},
   "source": [
    "2) Now compute $\\lambda_1$ using *sp.linalg.eigsh*. Browse the documentation for the function here: https://docs.scipy.org/doc/scipy/reference/generated/scipy.sparse.linalg.eigsh.html#scipy.sparse.linalg.eigsh\n",
    "How should the input parameters *which* and *k* be set?"
   ]
  },
  {
   "cell_type": "code",
   "execution_count": 8,
   "metadata": {},
   "outputs": [
    {
     "name": "stdout",
     "output_type": "stream",
     "text": [
      "most positive eigenvalue = 7.763949\n"
     ]
    }
   ],
   "source": [
    "#Add code here\n",
    "l1 = sp.linalg.eigsh(A,k=1,which='LA',return_eigenvectors=False)[0]\n",
    "print(\"most positive eigenvalue = %f\" %(l1))"
   ]
  },
  {
   "cell_type": "markdown",
   "metadata": {},
   "source": [
    "3) Set $\\alpha=0.9/\\lambda_1$"
   ]
  },
  {
   "cell_type": "code",
   "execution_count": 9,
   "metadata": {},
   "outputs": [],
   "source": [
    "#Add code here\n",
    "alpha = 0.9/l1"
   ]
  },
  {
   "cell_type": "markdown",
   "metadata": {},
   "source": [
    "4) Construct $\\rm M$ and $\\rm z$. Browse through the documentation on functions for building sparse matrices for helpful information on assembling $\\rm M$: https://docs.scipy.org/doc/scipy/reference/sparse.html#functions.    "
   ]
  },
  {
   "cell_type": "code",
   "execution_count": 10,
   "metadata": {},
   "outputs": [],
   "source": [
    "#Add code here\n",
    "M = sp.eye(N)-alpha*A\n",
    "z = np.ones(N)"
   ]
  },
  {
   "cell_type": "markdown",
   "metadata": {},
   "source": [
    "5) Solve the Katz system of equations using sp.linalg.spsolve to obtain $\\rm x$"
   ]
  },
  {
   "cell_type": "code",
   "execution_count": 11,
   "metadata": {},
   "outputs": [
    {
     "name": "stdout",
     "output_type": "stream",
     "text": [
      "x= [14.81946808  2.71787856  6.81973232  8.71229106 13.58349083 15.15764321\n",
      "  9.43778782 13.60524388  8.7894652   9.9581241   6.09296039  8.93225395\n",
      "  7.44935473  8.3754684   7.06844034  6.31601065  6.91136655  5.34502331\n",
      "  6.45944239  5.91759079]\n"
     ]
    }
   ],
   "source": [
    "x = sp.linalg.spsolve(M,z)\n",
    "print(\"x=\",x)"
   ]
  },
  {
   "cell_type": "markdown",
   "metadata": {},
   "source": [
    "6) Check that your centrality vector does not have elements of differing sign. How else could you check the correctness of your result?"
   ]
  },
  {
   "cell_type": "markdown",
   "metadata": {},
   "source": [
    "**ANS:** We could use the NetworkX Katz centrality function for comparison."
   ]
  },
  {
   "cell_type": "markdown",
   "metadata": {},
   "source": [
    "7) The cell below loads a co-appearance network for 77 characters in the Victor Hugo novel, Les Miserables. It also produces lists of node names and degrees. Compute the Katz centrality for the network and make a plot of the Katz centrality vs. node degree. Are there notable differences?"
   ]
  },
  {
   "cell_type": "code",
   "execution_count": 12,
   "metadata": {},
   "outputs": [
    {
     "data": {
      "text/plain": [
       "Text(0, 0.5, 'Katz centrality')"
      ]
     },
     "execution_count": 12,
     "metadata": {},
     "output_type": "execute_result"
    },
    {
     "data": {
      "image/png": "[encoded data removed]",
      "text/plain": [
       "<Figure size 640x480 with 1 Axes>"
      ]
     },
     "metadata": {},
     "output_type": "display_data"
    }
   ],
   "source": [
    "import matplotlib.pyplot as plt\n",
    "G = nx.les_miserables_graph()\n",
    "N = G.number_of_nodes()\n",
    "names = list(G.nodes()) #character names\n",
    "k = list(dict(nx.degree(G)).values()) #node degrees\n",
    "\n",
    "#Add code to compute Katz centrality\n",
    "A = nx.adjacency_matrix(G)\n",
    "A = A.astype(float)\n",
    "l1 = sp.linalg.eigsh(A,k=1,which='LA',return_eigenvectors=False)[0]\n",
    "alpha = 0.9/l1\n",
    "M = sp.eye(N)-alpha*A\n",
    "z = np.ones(N)\n",
    "x = sp.linalg.spsolve(M,z)\n",
    "\n",
    "\n",
    "#Add code to make plot comparing Katz centrality and node degrees\n",
    "plt.figure()\n",
    "plt.plot(k,x,'.')\n",
    "plt.grid()\n",
    "plt.xlabel('node degree')\n",
    "plt.ylabel('Katz centrality')\n",
    "\n"
   ]
  },
  {
   "cell_type": "markdown",
   "metadata": {},
   "source": [
    "We can see that both centralities agree on the most important character (Jean Valjean), however they disagree on the second-most important character. The Katz centrality chooses Marius (with his romantic interest Cosette as third). This is a fairly conventional ranking. On the other hand, the degree centrality chooses Gavroche as second, a street child not generally considered to be one of the main characters.|\n"
   ]
  },
  {
   "cell_type": "markdown",
   "metadata": {},
   "source": [
    "**Note:** Very old versions of NetworkX (like those that may be found on MLC computers) may not have the nx.les_miserables_graph() function. If that is the case, update NetworkX using the command below, restart the kernel via the \"Kernel\" menu above, and then try to use the function."
   ]
  },
  {
   "cell_type": "code",
   "execution_count": 13,
   "metadata": {},
   "outputs": [],
   "source": [
    "# Uncomment code below and run cell if needed.\n",
    "# !pip install --upgrade networkx"
   ]
  }
 ],
 "metadata": {
  "kernelspec": {
   "display_name": "Python 3 (ipykernel)",
   "language": "python",
   "name": "python3"
  },
  "language_info": {
   "codemirror_mode": {
    "name": "ipython",
    "version": 3
   },
   "file_extension": ".py",
   "mimetype": "text/x-python",
   "name": "python",
   "nbconvert_exporter": "python",
   "pygments_lexer": "ipython3",
   "version": "3.11.5"
  }
 },
 "nbformat": 4,
 "nbformat_minor": 1
}
