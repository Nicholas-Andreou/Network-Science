{
 "cells": [
  {
   "cell_type": "markdown",
   "metadata": {},
   "source": [
    "## Network Science Lab 1"
   ]
  },
  {
   "cell_type": "markdown",
   "metadata": {},
   "source": [
    "### Task 1: Barabasi-Albert network"
   ]
  },
  {
   "cell_type": "markdown",
   "metadata": {},
   "source": [
    "The Barabasi-Albert model for complex networks is based on the idea that networks evolve over time and that new nodes are more likely to link to high-degree nodes. It is (probably) the single-most important model in the field of network science as it reproduces important qualitative features seen in large complex real-world networks.\n",
    "We will study this model later in the term, and in this task, you will use NetworkX to generate B-A networks and investigate their properties."
   ]
  },
  {
   "cell_type": "markdown",
   "metadata": {},
   "source": [
    "1) The B-A model requires two input parameters: the total number of nodes (*N*), and the number of links (*L*)  added between a new node and the existing network upon its introduction. Use the function *nx.barabasi_albert_graph* to generate a B-A graph with *N=500* and *L=4*. Draw your graph (with node_size=6) and zoom into the figure and look around -- do you see any hubs? (Note that the figure will have to open in a separate window for the zoom option to be available)"
   ]
  },
  {
   "cell_type": "code",
   "execution_count": 188,
   "metadata": {},
   "outputs": [
    {
     "name": "stdout",
     "output_type": "stream",
     "text": [
      "Requirement already satisfied: scipy in /Users/nicholasandreou/.julia/conda/3/aarch64/lib/python3.12/site-packages (1.15.1)\n",
      "Requirement already satisfied: numpy<2.5,>=1.23.5 in /Users/nicholasandreou/.julia/conda/3/aarch64/lib/python3.12/site-packages (from scipy) (2.2.1)\n",
      "Note: you may need to restart the kernel to use updated packages.\n"
     ]
    }
   ],
   "source": [
    "pip install scipy"
   ]
  },
  {
   "cell_type": "code",
   "execution_count": 189,
   "metadata": {},
   "outputs": [
    {
     "name": "stdout",
     "output_type": "stream",
     "text": [
      "Requirement already satisfied: networkx in /Users/nicholasandreou/.julia/conda/3/aarch64/lib/python3.12/site-packages (3.4.2)\n",
      "Note: you may need to restart the kernel to use updated packages.\n"
     ]
    }
   ],
   "source": [
    "pip install networkx"
   ]
  },
  {
   "cell_type": "code",
   "execution_count": 192,
   "metadata": {},
   "outputs": [],
   "source": [
    "#Run this cell first\n",
    "import networkx as nx\n",
    "import numpy as np\n",
    "import matplotlib.pyplot as plt\n",
    "%matplotlib inline"
   ]
  },
  {
   "cell_type": "code",
   "execution_count": 194,
   "metadata": {},
   "outputs": [],
   "source": [
    "%matplotlib qt \n",
    "#Uncomment the line above to (hopefully) allow interactive figure windows to be created outside of notebook\n",
    "\n",
    "g = nx.barabasi_albert_graph(500,4)\n",
    "nx.draw(g, node_size = 6)\n",
    "plt.show() "
   ]
  },
  {
   "cell_type": "markdown",
   "metadata": {},
   "source": [
    "2) Now, generate a B-A graph with *N=5000*, *L=4*, and a $G_{Np}$ graph with *N=5000* and *P=0.002*.\n",
    "Compute the degree distributions for these graphs and plot them on a log-log plot."
   ]
  },
  {
   "cell_type": "code",
   "execution_count": 196,
   "metadata": {},
   "outputs": [],
   "source": [
    "B_A = nx.barabasi_albert_graph(5000,4)\n",
    "Grandom = nx.gnp_random_graph(5000,0.002)\n",
    "\n",
    "deg_dis_ba = nx.degree_histogram(B_A)\n",
    "deg_dis_gr = nx.degree_histogram(Grandom)\n",
    "plt.loglog(deg_dis_ba)\n",
    "plt.loglog(deg_dis_gr)\n",
    "plt.show()"
   ]
  },
  {
   "cell_type": "markdown",
   "metadata": {},
   "source": [
    "3) Compute and compare the average clustering coefficients for the $G_{Np}$ and B-A graphs."
   ]
  },
  {
   "cell_type": "code",
   "execution_count": 199,
   "metadata": {},
   "outputs": [
    {
     "name": "stdout",
     "output_type": "stream",
     "text": [
      "2499.5\n",
      "2499.5\n"
     ]
    }
   ],
   "source": [
    "print(np.mean(list(nx.clustering(B_A))))\n",
    "print(np.mean(list(nx.clustering(Grandom))))"
   ]
  },
  {
   "cell_type": "markdown",
   "metadata": {},
   "source": [
    "### Task 2: Adjacency matrices and Numpy"
   ]
  },
  {
   "cell_type": "markdown",
   "metadata": {},
   "source": [
    "1. An $N$-node star graph has $N-1$ nodes with degree $1$ and $1$ node with degree $N-1$. Use Numpy (and not NetworkX) to generate $\\mathbf{\\textrm{A}}_1$, the adjacency matrix for this graph. Number the nodes from $0$ to $N-1$ with node $0$ corresponding to the central high-degree node. You should avoid using loops for this task if you can. An example with $N=8$:\n",
    "<img src=\"https://upload.wikimedia.org/wikipedia/commons/thumb/4/49/Star_network_7.svg/180px-Star_network_7.svg.png\">"
   ]
  },
  {
   "cell_type": "code",
   "execution_count": null,
   "metadata": {},
   "outputs": [],
   "source": []
  },
  {
   "cell_type": "code",
   "execution_count": 204,
   "metadata": {},
   "outputs": [
    {
     "data": {
      "text/plain": [
       "array([[0., 1., 1., 1., 1., 1., 1., 1., 1., 1.],\n",
       "       [1., 0., 0., 0., 0., 0., 0., 0., 0., 0.],\n",
       "       [1., 0., 0., 0., 0., 0., 0., 0., 0., 0.],\n",
       "       [1., 0., 0., 0., 0., 0., 0., 0., 0., 0.],\n",
       "       [1., 0., 0., 0., 0., 0., 0., 0., 0., 0.],\n",
       "       [1., 0., 0., 0., 0., 0., 0., 0., 0., 0.],\n",
       "       [1., 0., 0., 0., 0., 0., 0., 0., 0., 0.],\n",
       "       [1., 0., 0., 0., 0., 0., 0., 0., 0., 0.],\n",
       "       [1., 0., 0., 0., 0., 0., 0., 0., 0., 0.],\n",
       "       [1., 0., 0., 0., 0., 0., 0., 0., 0., 0.]])"
      ]
     },
     "execution_count": 204,
     "metadata": {},
     "output_type": "execute_result"
    }
   ],
   "source": [
    "\n",
    "def star_A(N):\n",
    "    A = np.zeros([N,N], dtype = float)\n",
    "    row_0_list = [0] + ([1]*(N-1))\n",
    "    A[0] = np.array(row_0_list)\n",
    "    A[1:, 0] = 1\n",
    "    return A\n",
    "\n",
    "A_1 = star_A(10)\n",
    "A_1"
   ]
  },
  {
   "cell_type": "markdown",
   "metadata": {},
   "source": [
    "2. Now consider a *closed* star graph where a \"ring\" of links is placed around an ordinary star graph. Then, the  graph will have $1$ node with degree $N-1$ and $N-1$ nodes with degree $3$. Use Numpy to create $\\mathbf{\\textrm{A}}_2$, the adjacency matrix for this graph. The function *np.diag* may be helpful."
   ]
  },
  {
   "cell_type": "code",
   "execution_count": 207,
   "metadata": {},
   "outputs": [
    {
     "data": {
      "text/plain": [
       "array([[0., 1., 1., 1., 1., 1.],\n",
       "       [1., 0., 1., 0., 0., 1.],\n",
       "       [1., 1., 0., 1., 0., 0.],\n",
       "       [1., 0., 1., 0., 1., 0.],\n",
       "       [1., 0., 0., 1., 0., 1.],\n",
       "       [1., 1., 0., 0., 1., 0.]])"
      ]
     },
     "execution_count": 207,
     "metadata": {},
     "output_type": "execute_result"
    }
   ],
   "source": [
    "\n",
    "def ring_star_A(N):\n",
    "    A = np.zeros([N,N], dtype = float)\n",
    "    A[0, 2:] = 1\n",
    "    A[2:, 0] = 1\n",
    "    super_diag = np.diag([1]*(N-1), k = 1)\n",
    "    sub_diag = np.diag([1]*(N-1), k = -1)\n",
    "    A[1, N-1] = 1\n",
    "    A[N-1, 1] = 1\n",
    "    return A + super_diag + sub_diag\n",
    "\n",
    "A_2 = ring_star_A(6)\n",
    "A_2"
   ]
  },
  {
   "cell_type": "markdown",
   "metadata": {},
   "source": [
    "3. Verify that $\\rm (\\mathbf{A}_2+\\mathbf{I})(\\mathbf{A}_2+\\mathbf{I})^{-1} = \\mathbf{I}$"
   ]
  },
  {
   "cell_type": "code",
   "execution_count": 210,
   "metadata": {},
   "outputs": [
    {
     "data": {
      "text/plain": [
       "array([[1., 0., 0., 0., 0., 0.],\n",
       "       [0., 1., 0., 0., 0., 0.],\n",
       "       [0., 0., 1., 0., 0., 0.],\n",
       "       [0., 0., 0., 1., 0., 0.],\n",
       "       [0., 0., 0., 0., 1., 0.],\n",
       "       [0., 0., 0., 0., 0., 1.]])"
      ]
     },
     "execution_count": 210,
     "metadata": {},
     "output_type": "execute_result"
    }
   ],
   "source": [
    "\n",
    "def Id_check(N):\n",
    "    A_2 = ring_star_A(N)\n",
    "    return np.linalg.matmul(A_2 + np.diag([1]*N),np.linalg.inv(A_2 + np.diag([1]*N)))\n",
    "\n",
    "Id_check(6)"
   ]
  },
  {
   "cell_type": "markdown",
   "metadata": {},
   "source": [
    "4. Finally, use NetworkX to convert $\\mathbf{\\textrm{A}}_2$ into a NetworkX graph, and then display the graph "
   ]
  },
  {
   "cell_type": "code",
   "execution_count": 227,
   "metadata": {},
   "outputs": [],
   "source": [
    "G = nx.from_numpy_array(ring_star_A(7))\n",
    "\n",
    "plt.figure()\n",
    "nx.draw(G)"
   ]
  },
  {
   "cell_type": "code",
   "execution_count": null,
   "metadata": {},
   "outputs": [],
   "source": []
  }
 ],
 "metadata": {
  "kernelspec": {
   "display_name": "Python [conda env:aarch64]",
   "language": "python",
   "name": "conda-env-aarch64-py"
  },
  "language_info": {
   "codemirror_mode": {
    "name": "ipython",
    "version": 3
   },
   "file_extension": ".py",
   "mimetype": "text/x-python",
   "name": "python",
   "nbconvert_exporter": "python",
   "pygments_lexer": "ipython3",
   "version": "3.12.8"
  }
 },
 "nbformat": 4,
 "nbformat_minor": 4
}
