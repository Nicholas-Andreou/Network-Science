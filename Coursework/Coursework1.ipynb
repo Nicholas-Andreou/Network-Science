{
 "cells": [
  {
   "cell_type": "markdown",
   "metadata": {},
   "source": [
    "## Network Science Coursework 1\n",
    "\n",
    "Spring 2025\n",
    "\n",
    "Due: February 10th, 1:00pm GMT\n",
    "\n",
    "Please provide your CID number\n",
    "\n",
    "CID: "
   ]
  },
  {
   "cell_type": "code",
   "execution_count": 28,
   "metadata": {},
   "outputs": [],
   "source": [
    "# Do not modify this cell or import any other modules without explicit permission.\n",
    "# You should run this cell before running the code below.\n",
    "import numpy as np\n",
    "%matplotlib inline\n",
    "import matplotlib.pyplot as plt\n",
    "import networkx as nx\n",
    "import scipy.sparse as sp"
   ]
  },
  {
   "cell_type": "markdown",
   "metadata": {},
   "source": [
    "# Overview\n",
    "\n",
    "In this assignment, we will study a **weighted, undirected network** representing co-authorships between scientists who posted preprints on the _Astrophysics E-Print Archive_ between January 1, 1995, and December 31, 1999 (*M. Newman, 2001*).\n",
    "\n",
    "- Each node represents an author.  \n",
    "- A **weighted edge** between two nodes represents the **number of papers** they co-authored together.  \n",
    "\n",
    "You have been provided with a file (`data.gml`) containing the network data. Ensure that this file is stored in the **same directory** as your `.ipynb` notebook.  \n",
    "\n",
    "The cell below loads the graph $g$ and verifies that the data is loaded correctly. The expected output is:\n",
    "\n",
    "- **$N = 50$** (number of unique authors)\n",
    "- **$L = 55$** (number of links)"
   ]
  },
  {
   "cell_type": "code",
   "execution_count": 29,
   "metadata": {},
   "outputs": [
    {
     "name": "stdout",
     "output_type": "stream",
     "text": [
      "<class 'networkx.classes.graph.Graph'>\n",
      "N= 50\n",
      "L= 55\n"
     ]
    }
   ],
   "source": [
    "g = nx.read_gml(\"data.gml\")\n",
    "N = g.number_of_nodes()\n",
    "print(type(g))\n",
    "print(\"N=\",g.number_of_nodes())\n",
    "print(\"L=\",g.number_of_edges())"
   ]
  },
  {
   "cell_type": "markdown",
   "metadata": {},
   "source": [
    "### Part 1: _Betweenness Centrality_ (7 points)\n",
    "(a) The _betweenness centrality_ of node $i$ is defined as\n",
    "$$b_i=\\sum_{j\\neq k\\neq i}\\frac{s_{i}(j,k|i)}{s(j,k)},$$\n",
    "where $s(j,k)$ is the total number of shortest paths between nodes $j$ and $k$, and $s_{i}(j,k|i)$ is the number of shortest paths between nodes $j$ and $k$ that pass through $i$. \n",
    "\n",
    "Develop the function below **b_centrality** that inputs the graph $G$, and outputs the vector $\\boldsymbol{b}$ as a NumPy array of length $N$, containing the betweeness centrality of each node in $G$, where $G$ is an unweighted, undirected, complete graph. \n",
    "\n",
    "You may use NetworkX shortest path functions ([documentation here](https://networkx.org/documentation/stable/reference/algorithms/shortest_paths.html)) but you **cannot** use `nx.betweenness_centrality`.\n",
    "\n",
    "Below the function, provide a 2-3 sentence explanation of the main\n",
    "steps you have taken to make your code eﬀicient.\n",
    "\n",
    "(b) Once your function is implemented test your code using `nx.betweenness_centrality`. Read the documentation carefully ([link here](https://networkx.org/documentation/stable/reference/algorithms/generated/networkx.algorithms.centrality.betweenness_centrality.html)), since `nx.betweenness_centrality(G)` normalises the betweenness centrality by default, and it returns a **dictionary**, while your function should return an **array**.\n",
    "\n",
    "To verify correctness, a small graph $G$ is provided below."
   ]
  },
  {
   "cell_type": "code",
   "execution_count": 30,
   "metadata": {},
   "outputs": [],
   "source": [
    "def b_centrality(G):\n",
    "    \"\"\"\n",
    "    Compute the betweenness centrality for a N-node graph G\n",
    "\n",
    "    Input:\n",
    "    G: The graph G\n",
    "    \n",
    "    Output:\n",
    "    b: N-element numpy array containing the centrality vector\n",
    "\n",
    "    Please do not modify the function input or the return statement below\n",
    "    \"\"\"\n",
    "\n",
    "\n",
    "    return b\n",
    "\n"
   ]
  },
  {
   "cell_type": "markdown",
   "metadata": {},
   "source": [
    "*Add brief discussion here on the steps taken to make your code efficient*"
   ]
  },
  {
   "cell_type": "code",
   "execution_count": 31,
   "metadata": {},
   "outputs": [
    {
     "data": {
      "image/png": "[encoded data removed]",
      "text/plain": [
       "<Figure size 640x480 with 1 Axes>"
      ]
     },
     "metadata": {},
     "output_type": "display_data"
    }
   ],
   "source": [
    "#Run this cell to compile a test graph G\n",
    "\n",
    "G = nx.Graph()\n",
    "G.add_edge(1, 5)\n",
    "G.add_edge(1, 2)\n",
    "G.add_edge(1, 3)\n",
    "G.add_edge(3, 5)\n",
    "G.add_edge(3, 5)\n",
    "G.add_edge(1, 4)\n",
    "G.add_edge(2, 3)\n",
    "\n",
    "plt.figure()\n",
    "nx.draw(G,with_labels=True)\n",
    "plt.show()"
   ]
  },
  {
   "cell_type": "code",
   "execution_count": 33,
   "metadata": {},
   "outputs": [],
   "source": [
    "# Add code to check your code works"
   ]
  },
  {
   "cell_type": "markdown",
   "metadata": {},
   "source": [
    "### Part 2: Centrality of the **data set** provided (graph $g$) (7 marks)\n",
    "\n",
    "(a) Betweenness centrality calculation\n",
    "\n",
    "Compute the *betweenness centrality* for both:\n",
    "1. The **unweighted** graph $g$.\n",
    "2. The **weighted** graph $g$.\n",
    "\n",
    "Use the [`nx.betweenness_centrality`](https://networkx.org/documentation/stable/reference/algorithms/generated/networkx.algorithms.centrality.betweenness_centrality.html) function provided by NetworkX, not the code you have developed. \n",
    "\n",
    "(b) Katz centrality calculation\n",
    "\n",
    "Use the [`nx.katz_centrality`](https://networkx.org/documentation/stable/reference/algorithms/generated/networkx.algorithms.centrality.katz_centrality.html) function to compute the *Katz centrality* for the **weighted** graph $g$.\n",
    "\n",
    "- **Important**: You must find a sensible value of $\\alpha$ to use in the calculation.\n",
    "\n",
    "(c)  Comparing centralities\n",
    "\n",
    "Examine your results for the centralities, by comparing (1) the unweighted betweenness centrality, (2) the weighted betweenness centrality and (3) the weighted Katz centrality. Add code to the cell below to support your comparison. You may find it useful to normalise the centralities to be between $0$ and $1$ by using the function **normalise** provided below. Provide a brief non-technical description of how much agreement there is between (1) and (2) and between (2) and (3), and discuss why some nodes may have higher or lower scores with different measures. Your code may generate 1-3 figures, or do something else that is comparably useful."
   ]
  },
  {
   "cell_type": "code",
   "execution_count": 32,
   "metadata": {},
   "outputs": [],
   "source": [
    "# Normalize function to scale values between 0 and 1\n",
    "def normalise(values):\n",
    "    min_val = np.min(values)\n",
    "    max_val = np.max(values)\n",
    "    return (values - min_val) / (max_val - min_val) if max_val > min_val else np.zeros_like(values)\n",
    "\n",
    "#Add code here"
   ]
  },
  {
   "cell_type": "markdown",
   "metadata": {},
   "source": [
    "*Add brief discussion here*"
   ]
  },
  {
   "cell_type": "markdown",
   "metadata": {},
   "source": [
    "### Part 3: Identifying hubs (6 points)\n",
    "(a) The _betweenness centrality_ and _Katz centrality_ help to identify hubs. What properties would we expect hubs to exhibit when using these techniques?\n",
    "\n",
    "(b) If a hub is identified in graph $g$ using these techniques, what does this represent physically? How does this interpretation change when considering the weighted graph versus the unweighted graph?"
   ]
  },
  {
   "cell_type": "markdown",
   "metadata": {},
   "source": [
    "*Add brief discussion here*"
   ]
  },
  {
   "cell_type": "markdown",
   "metadata": {},
   "source": [
    "### Further guidance\n",
    "\n",
    "* You should submit both a completed ipynb file (Jupiter notebook) and a pdf version of the notebook file (generated using File --- Download as in notebook). If you cannot generate a pdf, try installing latex first, or submit an html version instead. Create a zip file containing both. \n",
    "    To submit your assignment, go to the _Assessments and Mark Schemes_ folder in the _Course Content_ on the Blackboard. Upload your PDF and ZIP file into _Coursework 1 Drop Box Spring 25_. All files should be named *coursework1_CID.ipynb*, *coursework1_CID.pdf* and *coursework1_CID.zip*,  where CID is your CID number). \n",
    "* You may use numpy, scipy, and matplotlib as needed. You may use networkx as needed **except** the beteweenness_centrality function in Part 1 (a). Please do not use any other packages without explicit permission.\n",
    "* Marking will be based on the correctness of your work, the efficiency of your codes, and the degree to which your submission reflects a good understanding of the material covered up to the release of this assignment. \n",
    "* This assignment requires sensible time-management on your part. Do not spend so much time on this assignment that it interferes substantially with your other modules. If you are concerned that your approach to the assignment may require an excessive amount of time, please get in touch with the instructor. \n",
    "* Questions about the assignment should be asked in private settings. This can be a \"private\" question on Ed (which is distinct from \"anonymous\"), asking for a one-on-one meeting during office hours, or during a problem class.\n",
    "* Please regularly backup your work. For example, you could keep an updated copy of your notebook on OneDrive.\n",
    "* In order to assign partial credit, we need to understand what your code is doing, so please add comments to the code to help us.\n",
    "* It may be helpful to initally develop your code in a Python module (outside of a function) and run it in a qtconsole (or similar Python terminal) so that you can readily access the values of the variables you are using.\n",
    "* Feel free to use/modify codes that I have provided during the term.\n"
   ]
  },
  {
   "cell_type": "markdown",
   "metadata": {},
   "source": []
  }
 ],
 "metadata": {
  "kernelspec": {
   "display_name": "base",
   "language": "python",
   "name": "python3"
  },
  "language_info": {
   "codemirror_mode": {
    "name": "ipython",
    "version": 3
   },
   "file_extension": ".py",
   "mimetype": "text/x-python",
   "name": "python",
   "nbconvert_exporter": "python",
   "pygments_lexer": "ipython3",
   "version": "3.12.7"
  }
 },
 "nbformat": 4,
 "nbformat_minor": 1
}
